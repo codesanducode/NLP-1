{
 "cells": [
  {
   "cell_type": "code",
   "execution_count": 3,
   "id": "f9bc8afb",
   "metadata": {},
   "outputs": [
    {
     "name": "stdout",
     "output_type": "stream",
     "text": [
      "Requirement already satisfied: wikipedia in c:\\users\\sandu\\anaconda3\\envs\\myenv\\lib\\site-packages (1.4.0)\n",
      "Requirement already satisfied: requests<3.0.0,>=2.0.0 in c:\\users\\sandu\\anaconda3\\envs\\myenv\\lib\\site-packages (from wikipedia) (2.25.1)\n",
      "Requirement already satisfied: beautifulsoup4 in c:\\users\\sandu\\anaconda3\\envs\\myenv\\lib\\site-packages (from wikipedia) (4.9.3)\n",
      "Requirement already satisfied: chardet<5,>=3.0.2 in c:\\users\\sandu\\anaconda3\\envs\\myenv\\lib\\site-packages (from requests<3.0.0,>=2.0.0->wikipedia) (3.0.4)\n",
      "Requirement already satisfied: urllib3<1.27,>=1.21.1 in c:\\users\\sandu\\anaconda3\\envs\\myenv\\lib\\site-packages (from requests<3.0.0,>=2.0.0->wikipedia) (1.26.4)\n",
      "Requirement already satisfied: idna<3,>=2.5 in c:\\users\\sandu\\anaconda3\\envs\\myenv\\lib\\site-packages (from requests<3.0.0,>=2.0.0->wikipedia) (2.10)\n",
      "Requirement already satisfied: certifi>=2017.4.17 in c:\\users\\sandu\\anaconda3\\envs\\myenv\\lib\\site-packages (from requests<3.0.0,>=2.0.0->wikipedia) (2020.12.5)\n",
      "Requirement already satisfied: soupsieve>1.2 in c:\\users\\sandu\\anaconda3\\envs\\myenv\\lib\\site-packages (from beautifulsoup4->wikipedia) (2.2.1)\n"
     ]
    }
   ],
   "source": [
    "!pip install wikipedia\n"
   ]
  },
  {
   "cell_type": "code",
   "execution_count": 4,
   "id": "865145d6",
   "metadata": {},
   "outputs": [
    {
     "name": "stdout",
     "output_type": "stream",
     "text": [
      "Cars redirect to Car(73688)\n",
      "Motor car redirect to Car(458458)\n",
      "Motorcar redirect to Car(458459)\n",
      "Automobiles redirect to Car(513608)\n",
      "Motor Car redirect to Car(840650)\n",
      "Ottomobile redirect to Car(1836567)\n",
      "Automobles redirect to Car(1842410)\n",
      "Motorization redirect to Car(3223435)\n",
      "Motorisation redirect to Car(3223436)\n",
      "Passenger Vehicle redirect to Car(6260924)\n"
     ]
    }
   ],
   "source": [
    "import wikipedia\n",
    "\n",
    "import requests\n",
    "\n",
    "#create a connection(session)\n",
    "r_session = requests.Session()\n",
    "\n",
    "#url for the MediaWiki action API\n",
    "URL = \"https://en.wikipedia.org/w/api.php\"\n",
    "\n",
    "PARAMS = {\n",
    "    \"action\": \"query\", #we are creating a query\n",
    "    \"titles\": \"car\", #for the title car    \n",
    "    \"prop\": \"redirects\", #asking for all the redirects (to the title car)\n",
    "    \"format\": \"json\" #and we want the output in a json format\n",
    "}\n",
    "\n",
    "#we obtain the response to the get request with the given parmeters\n",
    "query_response = r_session.get(url=URL, params=PARAMS)\n",
    "json_data = query_response.json()\n",
    "\n",
    "wikipedia_pages = json_data[\"query\"][\"pages\"]\n",
    "\n",
    "#we iterate through items and print all the redirects (their title and id)\n",
    "try:\n",
    "    for k, v in wikipedia_pages.items():\n",
    "        for redir in v[\"redirects\"]:\n",
    "            print(\"{} redirect to {}({})\".format(redir[\"title\"], v[\"title\"], redir[\"pageid\"]))\n",
    "except KeyError as err:\n",
    "    if err.args[0]=='redirects':\n",
    "        print(\"It has no redirects\")\n",
    "    else:\n",
    "        print(repr(err))\n"
   ]
  }
 ],
 "metadata": {
  "kernelspec": {
   "display_name": "Python 3",
   "language": "python",
   "name": "python3"
  },
  "language_info": {
   "codemirror_mode": {
    "name": "ipython",
    "version": 3
   },
   "file_extension": ".py",
   "mimetype": "text/x-python",
   "name": "python",
   "nbconvert_exporter": "python",
   "pygments_lexer": "ipython3",
   "version": "3.8.8"
  }
 },
 "nbformat": 4,
 "nbformat_minor": 5
}

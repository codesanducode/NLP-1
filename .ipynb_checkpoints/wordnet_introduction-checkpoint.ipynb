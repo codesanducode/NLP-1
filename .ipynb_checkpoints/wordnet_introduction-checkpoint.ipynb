{
 "cells": [
  {
   "cell_type": "code",
   "execution_count": 110,
   "id": "838fefc5",
   "metadata": {
    "scrolled": true
   },
   "outputs": [
    {
     "name": "stderr",
     "output_type": "stream",
     "text": [
      "[nltk_data] Downloading package wordnet to\n",
      "[nltk_data]     C:\\Users\\Sandu\\AppData\\Roaming\\nltk_data...\n",
      "[nltk_data]   Package wordnet is already up-to-date!\n"
     ]
    },
    {
     "data": {
      "text/plain": [
       "[Synset('school.n.01'),\n",
       " Synset('school.n.02'),\n",
       " Synset('school.n.03'),\n",
       " Synset('school.n.04'),\n",
       " Synset('school.n.05'),\n",
       " Synset('school.n.06'),\n",
       " Synset('school.n.07'),\n",
       " Synset('school.v.01'),\n",
       " Synset('educate.v.03'),\n",
       " Synset('school.v.03')]"
      ]
     },
     "execution_count": 110,
     "metadata": {},
     "output_type": "execute_result"
    }
   ],
   "source": [
    "import nltk\n",
    "nltk.download('wordnet')\n",
    "from nltk.corpus import wordnet\n",
    "wordnet.synsets('school')"
   ]
  },
  {
   "cell_type": "code",
   "execution_count": 111,
   "id": "c4415993",
   "metadata": {},
   "outputs": [
    {
     "data": {
      "text/plain": [
       "['__class__',\n",
       " '__delattr__',\n",
       " '__dict__',\n",
       " '__dir__',\n",
       " '__doc__',\n",
       " '__eq__',\n",
       " '__format__',\n",
       " '__ge__',\n",
       " '__getattribute__',\n",
       " '__gt__',\n",
       " '__hash__',\n",
       " '__init__',\n",
       " '__init_subclass__',\n",
       " '__le__',\n",
       " '__lt__',\n",
       " '__module__',\n",
       " '__ne__',\n",
       " '__new__',\n",
       " '__reduce__',\n",
       " '__reduce_ex__',\n",
       " '__repr__',\n",
       " '__setattr__',\n",
       " '__sizeof__',\n",
       " '__slots__',\n",
       " '__str__',\n",
       " '__subclasshook__',\n",
       " '__weakref__',\n",
       " '_all_hypernyms',\n",
       " '_definition',\n",
       " '_examples',\n",
       " '_frame_ids',\n",
       " '_hypernyms',\n",
       " '_instance_hypernyms',\n",
       " '_iter_hypernym_lists',\n",
       " '_lemma_names',\n",
       " '_lemma_pointers',\n",
       " '_lemmas',\n",
       " '_lexname',\n",
       " '_max_depth',\n",
       " '_min_depth',\n",
       " '_name',\n",
       " '_needs_root',\n",
       " '_offset',\n",
       " '_pointers',\n",
       " '_pos',\n",
       " '_related',\n",
       " '_shortest_hypernym_paths',\n",
       " '_wordnet_corpus_reader',\n",
       " 'acyclic_tree',\n",
       " 'also_sees',\n",
       " 'attributes',\n",
       " 'causes',\n",
       " 'closure',\n",
       " 'common_hypernyms',\n",
       " 'definition',\n",
       " 'entailments',\n",
       " 'examples',\n",
       " 'frame_ids',\n",
       " 'hypernym_distances',\n",
       " 'hypernym_paths',\n",
       " 'hypernyms',\n",
       " 'hyponyms',\n",
       " 'in_region_domains',\n",
       " 'in_topic_domains',\n",
       " 'in_usage_domains',\n",
       " 'instance_hypernyms',\n",
       " 'instance_hyponyms',\n",
       " 'jcn_similarity',\n",
       " 'lch_similarity',\n",
       " 'lemma_names',\n",
       " 'lemmas',\n",
       " 'lexname',\n",
       " 'lin_similarity',\n",
       " 'lowest_common_hypernyms',\n",
       " 'max_depth',\n",
       " 'member_holonyms',\n",
       " 'member_meronyms',\n",
       " 'min_depth',\n",
       " 'mst',\n",
       " 'name',\n",
       " 'offset',\n",
       " 'part_holonyms',\n",
       " 'part_meronyms',\n",
       " 'path_similarity',\n",
       " 'pos',\n",
       " 'region_domains',\n",
       " 'res_similarity',\n",
       " 'root_hypernyms',\n",
       " 'shortest_path_distance',\n",
       " 'similar_tos',\n",
       " 'substance_holonyms',\n",
       " 'substance_meronyms',\n",
       " 'topic_domains',\n",
       " 'tree',\n",
       " 'usage_domains',\n",
       " 'verb_groups',\n",
       " 'wup_similarity']"
      ]
     },
     "execution_count": 111,
     "metadata": {},
     "output_type": "execute_result"
    }
   ],
   "source": [
    "sch=wordnet.synset('school.n.01')\n",
    "dir(sch)"
   ]
  },
  {
   "cell_type": "code",
   "execution_count": 112,
   "id": "1420493a",
   "metadata": {},
   "outputs": [
    {
     "name": "stdout",
     "output_type": "stream",
     "text": [
      "an unpleasant difficulty\n",
      "a person (usually but not necessarily a woman) who is thoroughly disliked\n",
      "informal terms for objecting\n",
      "female of any member of the dog family\n",
      "complain\n",
      "say mean things\n"
     ]
    }
   ],
   "source": [
    "def f1(word):\n",
    "    for syn in wordnet.synsets(word):\n",
    "        print(syn.definition())\n",
    "f1('bitch')"
   ]
  },
  {
   "cell_type": "code",
   "execution_count": 113,
   "id": "aaac3e6c",
   "metadata": {},
   "outputs": [
    {
     "name": "stdout",
     "output_type": "stream",
     "text": [
      "an institution dedicated to education\n",
      "a group of persons associated by some common tie or occupation and regarded as an entity\n"
     ]
    }
   ],
   "source": [
    "def f2(word1, word2):\n",
    "    syn1 = [i.hypernyms() for i in wordnet.synsets(word1)]\n",
    "    syn2 = [i.hypernyms() for i in wordnet.synsets(word2)]\n",
    "\n",
    "    syn3=[]\n",
    "    [syn3.append(i) for i in syn1 if i in syn2 if i not in syn3]\n",
    "    if syn3!= []:\n",
    "        for i in syn3:\n",
    "            print(i[0].definition())\n",
    "f2('school','university')"
   ]
  },
  {
   "cell_type": "code",
   "execution_count": 114,
   "id": "7fcebcfe",
   "metadata": {},
   "outputs": [
    {
     "name": "stdout",
     "output_type": "stream",
     "text": [
      "[]\n",
      "[]\n",
      "[Synset('animalia.n.01')]\n",
      "[Synset('face.n.07'), Synset('head.n.01')]\n",
      "[Synset('animal_tissue.n.01')]\n",
      "[]\n",
      "\n",
      "([Synset('animalia.n.01')], [Synset('face.n.07'), Synset('head.n.01'), Synset('animal_tissue.n.01')])\n"
     ]
    }
   ],
   "source": [
    "def f3(syn):\n",
    "    holo1 = syn.part_holonyms()\n",
    "    holo2 = syn.substance_holonyms()\n",
    "    holo3 = syn.member_holonyms()\n",
    "    holo =holo1+holo2+holo3\n",
    "    \n",
    "    mero1 = syn.part_meronyms()\n",
    "    mero2 = syn.substance_meronyms()\n",
    "    mero3 = syn.member_meronyms()\n",
    "    mero = mero1+mero2+mero3\n",
    "    \n",
    "    return (holo,mero)\n",
    "\n",
    "air = wordnet.synset('animal.n.01')\n",
    "print(air.part_holonyms())\n",
    "print(air.substance_holonyms())\n",
    "print(air.member_holonyms())\n",
    "print(air.part_meronyms())\n",
    "print(air.substance_meronyms())\n",
    "print(air.member_meronyms())\n",
    "print()\n",
    "print(f3(air))"
   ]
  },
  {
   "cell_type": "code",
   "execution_count": 122,
   "id": "988378bd",
   "metadata": {},
   "outputs": [
    {
     "name": "stdout",
     "output_type": "stream",
     "text": [
      "Synset('dog.n.01')->Synset('canine.n.02')->Synset('carnivore.n.01')->Synset('placental.n.01')->Synset('mammal.n.01')->Synset('vertebrate.n.01')->Synset('chordate.n.01')->Synset('animal.n.01')->Synset('organism.n.01')->Synset('living_thing.n.01')->Synset('whole.n.02')->Synset('object.n.01')->Synset('physical_entity.n.01')->Synset('entity.n.01')->Synset('domestic_animal.n.01')->Synset('animal.n.01')->Synset('organism.n.01')->Synset('living_thing.n.01')->Synset('whole.n.02')->Synset('object.n.01')->Synset('physical_entity.n.01')->Synset('entity.n.01')->"
     ]
    }
   ],
   "source": [
    "def f4(syn):\n",
    "    if syn :\n",
    "        print(syn,end='->')\n",
    "        for hyp in syn.hypernyms():   \n",
    "            f4(hyp)\n",
    "    else:\n",
    "        print()\n",
    "\n",
    "syn2 = wordnet.synset('dog.n.01')\n",
    "f4(syn2)"
   ]
  },
  {
   "cell_type": "code",
   "execution_count": null,
   "id": "14491190",
   "metadata": {},
   "outputs": [],
   "source": []
  },
  {
   "cell_type": "code",
   "execution_count": null,
   "id": "77543283",
   "metadata": {},
   "outputs": [],
   "source": []
  }
 ],
 "metadata": {
  "kernelspec": {
   "display_name": "Python 3",
   "language": "python",
   "name": "python3"
  },
  "language_info": {
   "codemirror_mode": {
    "name": "ipython",
    "version": 3
   },
   "file_extension": ".py",
   "mimetype": "text/x-python",
   "name": "python",
   "nbconvert_exporter": "python",
   "pygments_lexer": "ipython3",
   "version": "3.8.8"
  }
 },
 "nbformat": 4,
 "nbformat_minor": 5
}

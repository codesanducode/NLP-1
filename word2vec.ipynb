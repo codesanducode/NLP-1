{
 "cells": [
  {
   "cell_type": "code",
   "execution_count": 1,
   "id": "5daaa579",
   "metadata": {},
   "outputs": [
    {
     "name": "stdout",
     "output_type": "stream",
     "text": [
      "Requirement already satisfied: gensim in c:\\users\\sandu\\anaconda3\\envs\\myenv\\lib\\site-packages (4.0.1)\n",
      "Requirement already satisfied: smart-open>=1.8.1 in c:\\users\\sandu\\anaconda3\\envs\\myenv\\lib\\site-packages (from gensim) (5.0.0)\n",
      "Requirement already satisfied: scipy>=0.18.1 in c:\\users\\sandu\\anaconda3\\envs\\myenv\\lib\\site-packages (from gensim) (1.6.2)\n",
      "Requirement already satisfied: numpy>=1.11.3 in c:\\users\\sandu\\anaconda3\\envs\\myenv\\lib\\site-packages (from gensim) (1.19.2)\n",
      "Requirement already satisfied: Cython==0.29.21 in c:\\users\\sandu\\anaconda3\\envs\\myenv\\lib\\site-packages (from gensim) (0.29.21)\n",
      "Collecting python-Levenshtein\n",
      "  Using cached python-Levenshtein-0.12.2.tar.gz (50 kB)\n",
      "Requirement already satisfied: setuptools in c:\\users\\sandu\\anaconda3\\envs\\myenv\\lib\\site-packages (from python-Levenshtein) (52.0.0.post20210125)\n",
      "Building wheels for collected packages: python-Levenshtein\n",
      "  Building wheel for python-Levenshtein (setup.py): started\n",
      "  Building wheel for python-Levenshtein (setup.py): finished with status 'error'\n",
      "  Running setup.py clean for python-Levenshtein\n",
      "Failed to build python-Levenshtein\n",
      "Installing collected packages: python-Levenshtein\n",
      "    Running setup.py install for python-Levenshtein: started\n",
      "    Running setup.py install for python-Levenshtein: finished with status 'error'\n"
     ]
    },
    {
     "name": "stderr",
     "output_type": "stream",
     "text": [
      "  ERROR: Command errored out with exit status 1:\n",
      "   command: 'C:\\Users\\Sandu\\anaconda3\\envs\\myenv\\python.exe' -u -c 'import sys, setuptools, tokenize; sys.argv[0] = '\"'\"'C:\\\\Users\\\\Sandu\\\\AppData\\\\Local\\\\Temp\\\\pip-install-pb5id5ib\\\\python-levenshtein_dd49a2500d984288b26b728b454903ec\\\\setup.py'\"'\"'; __file__='\"'\"'C:\\\\Users\\\\Sandu\\\\AppData\\\\Local\\\\Temp\\\\pip-install-pb5id5ib\\\\python-levenshtein_dd49a2500d984288b26b728b454903ec\\\\setup.py'\"'\"';f=getattr(tokenize, '\"'\"'open'\"'\"', open)(__file__);code=f.read().replace('\"'\"'\\r\\n'\"'\"', '\"'\"'\\n'\"'\"');f.close();exec(compile(code, __file__, '\"'\"'exec'\"'\"'))' bdist_wheel -d 'C:\\Users\\Sandu\\AppData\\Local\\Temp\\pip-wheel-lxff803n'\n",
      "       cwd: C:\\Users\\Sandu\\AppData\\Local\\Temp\\pip-install-pb5id5ib\\python-levenshtein_dd49a2500d984288b26b728b454903ec\\\n",
      "  Complete output (27 lines):\n",
      "  running bdist_wheel\n",
      "  running build\n",
      "  running build_py\n",
      "  creating build\n",
      "  creating build\\lib.win-amd64-3.8\n",
      "  creating build\\lib.win-amd64-3.8\\Levenshtein\n",
      "  copying Levenshtein\\StringMatcher.py -> build\\lib.win-amd64-3.8\\Levenshtein\n",
      "  copying Levenshtein\\__init__.py -> build\\lib.win-amd64-3.8\\Levenshtein\n",
      "  running egg_info\n",
      "  writing python_Levenshtein.egg-info\\PKG-INFO\n",
      "  writing dependency_links to python_Levenshtein.egg-info\\dependency_links.txt\n",
      "  writing entry points to python_Levenshtein.egg-info\\entry_points.txt\n",
      "  writing namespace_packages to python_Levenshtein.egg-info\\namespace_packages.txt\n",
      "  writing requirements to python_Levenshtein.egg-info\\requires.txt\n",
      "  writing top-level names to python_Levenshtein.egg-info\\top_level.txt\n",
      "  reading manifest file 'python_Levenshtein.egg-info\\SOURCES.txt'\n",
      "  reading manifest template 'MANIFEST.in'\n",
      "  warning: no previously-included files matching '*pyc' found anywhere in distribution\n",
      "  warning: no previously-included files matching '*so' found anywhere in distribution\n",
      "  warning: no previously-included files matching '.project' found anywhere in distribution\n",
      "  warning: no previously-included files matching '.pydevproject' found anywhere in distribution\n",
      "  writing manifest file 'python_Levenshtein.egg-info\\SOURCES.txt'\n",
      "  copying Levenshtein\\_levenshtein.c -> build\\lib.win-amd64-3.8\\Levenshtein\n",
      "  copying Levenshtein\\_levenshtein.h -> build\\lib.win-amd64-3.8\\Levenshtein\n",
      "  running build_ext\n",
      "  building 'Levenshtein._levenshtein' extension\n",
      "  error: Microsoft Visual C++ 14.0 or greater is required. Get it with \"Microsoft C++ Build Tools\": https://visualstudio.microsoft.com/visual-cpp-build-tools/\n",
      "  ----------------------------------------\n",
      "  ERROR: Failed building wheel for python-Levenshtein\n",
      "    ERROR: Command errored out with exit status 1:\n",
      "     command: 'C:\\Users\\Sandu\\anaconda3\\envs\\myenv\\python.exe' -u -c 'import sys, setuptools, tokenize; sys.argv[0] = '\"'\"'C:\\\\Users\\\\Sandu\\\\AppData\\\\Local\\\\Temp\\\\pip-install-pb5id5ib\\\\python-levenshtein_dd49a2500d984288b26b728b454903ec\\\\setup.py'\"'\"'; __file__='\"'\"'C:\\\\Users\\\\Sandu\\\\AppData\\\\Local\\\\Temp\\\\pip-install-pb5id5ib\\\\python-levenshtein_dd49a2500d984288b26b728b454903ec\\\\setup.py'\"'\"';f=getattr(tokenize, '\"'\"'open'\"'\"', open)(__file__);code=f.read().replace('\"'\"'\\r\\n'\"'\"', '\"'\"'\\n'\"'\"');f.close();exec(compile(code, __file__, '\"'\"'exec'\"'\"'))' install --record 'C:\\Users\\Sandu\\AppData\\Local\\Temp\\pip-record-75w6v8gv\\install-record.txt' --single-version-externally-managed --compile --install-headers 'C:\\Users\\Sandu\\anaconda3\\envs\\myenv\\Include\\python-Levenshtein'\n",
      "         cwd: C:\\Users\\Sandu\\AppData\\Local\\Temp\\pip-install-pb5id5ib\\python-levenshtein_dd49a2500d984288b26b728b454903ec\\\n",
      "    Complete output (27 lines):\n",
      "    running install\n",
      "    running build\n",
      "    running build_py\n",
      "    creating build\n",
      "    creating build\\lib.win-amd64-3.8\n",
      "    creating build\\lib.win-amd64-3.8\\Levenshtein\n",
      "    copying Levenshtein\\StringMatcher.py -> build\\lib.win-amd64-3.8\\Levenshtein\n",
      "    copying Levenshtein\\__init__.py -> build\\lib.win-amd64-3.8\\Levenshtein\n",
      "    running egg_info\n",
      "    writing python_Levenshtein.egg-info\\PKG-INFO\n",
      "    writing dependency_links to python_Levenshtein.egg-info\\dependency_links.txt\n",
      "    writing entry points to python_Levenshtein.egg-info\\entry_points.txt\n",
      "    writing namespace_packages to python_Levenshtein.egg-info\\namespace_packages.txt\n",
      "    writing requirements to python_Levenshtein.egg-info\\requires.txt\n",
      "    writing top-level names to python_Levenshtein.egg-info\\top_level.txt\n",
      "    reading manifest file 'python_Levenshtein.egg-info\\SOURCES.txt'\n",
      "    reading manifest template 'MANIFEST.in'\n",
      "    warning: no previously-included files matching '*pyc' found anywhere in distribution\n",
      "    warning: no previously-included files matching '*so' found anywhere in distribution\n",
      "    warning: no previously-included files matching '.project' found anywhere in distribution\n",
      "    warning: no previously-included files matching '.pydevproject' found anywhere in distribution\n",
      "    writing manifest file 'python_Levenshtein.egg-info\\SOURCES.txt'\n",
      "    copying Levenshtein\\_levenshtein.c -> build\\lib.win-amd64-3.8\\Levenshtein\n",
      "    copying Levenshtein\\_levenshtein.h -> build\\lib.win-amd64-3.8\\Levenshtein\n",
      "    running build_ext\n",
      "    building 'Levenshtein._levenshtein' extension\n",
      "    error: Microsoft Visual C++ 14.0 or greater is required. Get it with \"Microsoft C++ Build Tools\": https://visualstudio.microsoft.com/visual-cpp-build-tools/\n",
      "    ----------------------------------------\n",
      "ERROR: Command errored out with exit status 1: 'C:\\Users\\Sandu\\anaconda3\\envs\\myenv\\python.exe' -u -c 'import sys, setuptools, tokenize; sys.argv[0] = '\"'\"'C:\\\\Users\\\\Sandu\\\\AppData\\\\Local\\\\Temp\\\\pip-install-pb5id5ib\\\\python-levenshtein_dd49a2500d984288b26b728b454903ec\\\\setup.py'\"'\"'; __file__='\"'\"'C:\\\\Users\\\\Sandu\\\\AppData\\\\Local\\\\Temp\\\\pip-install-pb5id5ib\\\\python-levenshtein_dd49a2500d984288b26b728b454903ec\\\\setup.py'\"'\"';f=getattr(tokenize, '\"'\"'open'\"'\"', open)(__file__);code=f.read().replace('\"'\"'\\r\\n'\"'\"', '\"'\"'\\n'\"'\"');f.close();exec(compile(code, __file__, '\"'\"'exec'\"'\"'))' install --record 'C:\\Users\\Sandu\\AppData\\Local\\Temp\\pip-record-75w6v8gv\\install-record.txt' --single-version-externally-managed --compile --install-headers 'C:\\Users\\Sandu\\anaconda3\\envs\\myenv\\Include\\python-Levenshtein' Check the logs for full command output.\n"
     ]
    }
   ],
   "source": [
    "!pip install gensim\n",
    "!pip install python-Levenshtein"
   ]
  },
  {
   "cell_type": "code",
   "execution_count": 2,
   "id": "25ceacbe",
   "metadata": {},
   "outputs": [],
   "source": [
    "corpus = \"\"\"It is a truth universally acknowledged, that a single man in possession of a good fortune, must be in want of a wife.\n",
    "\n",
    "However little known the feelings or views of such a man may be on his first entering a neighbourhood, this truth is so well fixed in the minds of the surrounding families that he is considered as the rightful property of some one or other of their daughters.\n",
    "\n",
    "'My dear Mr. Bennet,' said his lady to him one day, 'have you heard that Netherfield Park is let at last?'\n",
    "\n",
    "Mr. Bennet replied that he had not.\n",
    "\n",
    "'But it is,' returned she; 'for Mrs. Long has just been here, and she told me all about it.'\n",
    "\n",
    "Mr. Bennet made no answer.\n",
    "\n",
    "'Do not you want to know who has taken it?' cried his wife impatiently.\n",
    "\n",
    "'You want to tell me, and I have no objection to hearing it.'\n",
    "\n",
    "This was invitation enough.\n",
    "\n",
    "'Why, my dear, you must know, Mrs. Long says that Netherfield is taken by a young man of large fortune from the north of England; that he came down on Monday in a chaise and four to see the place, and was so much delighted with it, that he agreed with Mr. Morris immediately; that he is to take possession before Michaelmas, and some of his servants are to be in the house by the end of next week.'\n",
    "\n",
    "'What is his name?'\n",
    "\n",
    "'Bingley.'\n",
    "\n",
    "'Is he married or single?'\n",
    "\n",
    "'Oh! single, my dear, to be sure! A single man of large fortune; four or five thousand a year. What a fine thing for our girls!'\n",
    "\n",
    "'How so? how can it affect them?'\n",
    "\n",
    "'My dear Mr. Bennet,' replied his wife, 'how can you be so tiresome! You must know that I am thinking of his marrying one of them.'\n",
    "\n",
    "'Is that his design in settling here?'\n",
    "\n",
    "'Design! nonsense, how can you talk so! But it is very likely that he may fall in love with one of them, and therefore you must visit him as soon as he comes.'\n",
    "\n",
    "'I see no occasion for that. You and the girls may go, or you may send them by themselves, which perhaps will be still better, for as you are as handsome as any of them, Mr. Bingley might like you the best of the party.Pride & Prejudice (Contd)\n",
    "\n",
    "'My dear, you flatter me. I certainly have had my share of beauty, but I do not pretend to be any thing extraordinary now. When a woman has five grown-up daughters she ought to give over thinking of her own beauty.'\n",
    "\n",
    "'In such cases a woman has not often much beauty to think of.'\n",
    "\n",
    "'But, my dear, you must indeed go and see Mr. Bingley when he comes into the neighbourhood.'\n",
    "\n",
    "'It is more than I engage for, I assure you.'\n",
    "\n",
    "'But consider your daughters. Only think what an establishment it would be for one of them. Sir William and Lady Lucas are determined to go, merely on that account, for in general, you know, they visit no new-comers. Indeed you must go, for it will be impossible for us to visit him if you do not.'\n",
    "\n",
    "'You are over-scrupulous, surely. I dare say Mr. Bingley will be very glad to see you; and I will send a few lines by you to assure him of my hearty consent to his marrying whichever he chuses of the girls: though I must throw in a good word for my little Lizzy.'\n",
    "\n",
    "'I desire you will do no such thing. Lizzy is not a bit better than the others; and I am sure she is not half so handsome as Jane, nor half so good-humoured as Lydia. But you are always giving her the preference.'\n",
    "\n",
    "'They have none of them much to recommend them,' replied he; 'they are all silly and ignorant, like other girls; but Lizzy has something more of quickness than her sisters.'\n",
    "\n",
    "'Mr. Bennet, how can you abuse your own children in such a way! You take delight in vexing me. You have no compassion of my poor nerves.'\n",
    "\n",
    "'You mistake me, my dear. I have a high respect for your nerves. They are my old friends. I have heard you mention them with consideration these twenty years at least.'\n",
    "\n",
    "'Ah! You do not know what I suffer.'\n",
    "\n",
    "'But I hope you will get over it, and live to see many young men of four thousand a year come into the neighbourhood.'\n",
    "\n",
    "'It will be no use to us, if twenty such should come, since you will not visit them.'\n",
    "\n",
    "'Depend upon it, my dear, that when there are twenty, I will visit them all.'\n",
    "\n",
    "Mr. Bennet was so odd a mixture of quick parts, sarcastic humour, reserve, and caprice, that the experience of three-and-twenty years had been insufficient to make his wife understand his character. Her mind was less difficult to develop. She was a woman of mean understanding, little information, and uncertain temper. When she was discontented, she fancied herself nervous. The business of her life was to get her daughters married; its solace was visiting and news.\n",
    "\"\"\""
   ]
  },
  {
   "cell_type": "code",
   "execution_count": 3,
   "id": "56f29610",
   "metadata": {},
   "outputs": [
    {
     "name": "stderr",
     "output_type": "stream",
     "text": [
      "C:\\Users\\Sandu\\anaconda3\\envs\\myenv\\lib\\site-packages\\gensim\\similarities\\__init__.py:15: UserWarning: The gensim.similarities.levenshtein submodule is disabled, because the optional Levenshtein package <https://pypi.org/project/python-Levenshtein/> is unavailable. Install Levenhstein (e.g. `pip install python-Levenshtein`) to suppress this warning.\n",
      "  warnings.warn(msg)\n"
     ]
    }
   ],
   "source": [
    "import gensim \n",
    "from gensim.models import Word2Vec\n",
    "model = gensim.models.KeyedVectors.load_word2vec_format('GoogleNews-vectors-negative300.bin', binary=True)\n"
   ]
  },
  {
   "cell_type": "code",
   "execution_count": 4,
   "id": "dfbe5229",
   "metadata": {},
   "outputs": [
    {
     "name": "stdout",
     "output_type": "stream",
     "text": [
      "words in vocab: 3000000\n"
     ]
    }
   ],
   "source": [
    "print('words in vocab:',len(model.key_to_index))"
   ]
  },
  {
   "cell_type": "code",
   "execution_count": 5,
   "id": "a0b52a5f",
   "metadata": {},
   "outputs": [
    {
     "name": "stdout",
     "output_type": "stream",
     "text": [
      "['over-scrupulous', '(', \"'they\", \"'Design\", \"'how\", '.', \"'Is\", 'good-humoured', 'of', 'and', 'party.Pride', \"'In\", \"'They\", 'humour', 'three-and-twenty', '?', 'new-comers', \"'But\", '!', \"'What\", \"'Do\", \"'for\", ',', \"'have\", 'to', \"'Why\", \"'Mr\", \"'How\", \"'Ah\", ')', \"'It\", ';', 'grown-up', \"'My\", ':', 'a', 'neighbourhood', \"'Depend\", \"'Bingley\", \"'You\", \"'Oh\", \"'\", 'chuses']\n"
     ]
    }
   ],
   "source": [
    "import nltk\n",
    "from nltk.tokenize import word_tokenize\n",
    "token_corpus = word_tokenize(corpus)\n",
    "words_not_in =[]\n",
    "for i in token_corpus:\n",
    "    try:\n",
    "        _ = model.key_to_index[i] # we force the dictionary to throw an error\n",
    "    except:\n",
    "        words_not_in.append(i) # so we can figure out what is not in the dict\n",
    "words_not_in = list(set(words_not_in))\n",
    "print(words_not_in)\n",
    "# we notice the 'foo bar' quotes' first and last word are not recognized due to the ' attached"
   ]
  },
  {
   "cell_type": "code",
   "execution_count": 6,
   "id": "5506ef97",
   "metadata": {},
   "outputs": [
    {
     "name": "stdout",
     "output_type": "stream",
     "text": [
      "most distant: A these -0.1752392\n",
      "closest: four five 0.96062976\n"
     ]
    }
   ],
   "source": [
    "token_corpus = [item for item in token_corpus if item not in words_not_in]\n",
    "minimum = 100\n",
    "maximum = -1\n",
    "mini = -1\n",
    "minj = -1\n",
    "maxi = -1\n",
    "maxj = -1\n",
    "for i in token_corpus:\n",
    "    for j in token_corpus:\n",
    "        if i!=j:\n",
    "            dist = model.similarity(i,j)\n",
    "            if dist<minimum:\n",
    "                minimum = dist\n",
    "                mini=i\n",
    "                minj=j\n",
    "            if dist>maximum:\n",
    "                maximum = dist\n",
    "                maxi = i\n",
    "                maxj = j\n",
    "\n",
    "print('most distant:',mini,minj,minimum)\n",
    "print('closest:',maxi,maxj,maximum)"
   ]
  },
  {
   "cell_type": "code",
   "execution_count": 7,
   "id": "4596453d",
   "metadata": {},
   "outputs": [],
   "source": [
    "X = [model.get_vector(item) for item in token_corpus]"
   ]
  },
  {
   "cell_type": "code",
   "execution_count": 8,
   "id": "a854a161",
   "metadata": {},
   "outputs": [],
   "source": [
    "from sklearn.cluster import KMeans\n",
    "import numpy as np\n",
    "clusters = 15\n",
    "kmeans = KMeans(n_clusters=clusters, random_state=0).fit(X)\n",
    "y = kmeans.labels_"
   ]
  },
  {
   "cell_type": "code",
   "execution_count": 9,
   "id": "3535d5a1",
   "metadata": {},
   "outputs": [],
   "source": [
    "text = []\n",
    "for j in range(clusters):\n",
    "    clus = []\n",
    "    for i in zip(token_corpus,y):\n",
    "        if j==i[1]:\n",
    "            clus.append(i[0])\n",
    "    text.append(list(set(clus))) # remove duplicates"
   ]
  },
  {
   "cell_type": "code",
   "execution_count": 10,
   "id": "24e6955b",
   "metadata": {},
   "outputs": [
    {
     "name": "stdout",
     "output_type": "stream",
     "text": [
      "cluster: 0 ['compassion', 'live', 'beauty', 'feelings', 'families', 'respect', 'rightful', 'discontented', 'Lady', 'young', 'their', 'friends', 'these', 'us', 'dear', 'children', 'poor', 'girls', 'them', 'life', 'themselves', 'servants', 'impatiently', 'own', 'solace', 'minds', 'cried', 'our', 'desire', 'men', 'others', 'love'] \n",
      "\n",
      "cluster: 1 ['me', 'I', 'my'] \n",
      "\n",
      "cluster: 2 ['since', 'When', 'A', 'few', 'which', 'fall', 'north', 'thousand', 'about', 'in', 'cases', 'immediately', 'made', 'Lucas', 'Monday', 'four', 'but', 'more', 'an', 'over', 'upon', 'end', 'week', 'business', 'general', 'at', 'invitation', 'by', 'its', 'But', 'the', 'less', 'surrounding', 'before', 'extraordinary', 'giving', 'share', 'hearing', 'when', 'next', 'years', 'had', 'house', 'parts', 'place', 'It', 'Only', 'into', 'entering', 'reserve', 'first', 'acknowledged', 'The', 'than', 'old', 'twenty', 'uncertain', 'taken', 'returned', 'year', 'has', 'fixed', 'high', 'many', 'came', 'name', 'settling', 'all', 'this', 'have', 'down', 'possession', 'Indeed', 'it', 'agreed', 'five', 'day', 'news', 'on', 'who', 'for', 'that', 'They', 'now', 'though', 'one', 'abuse', 'with', 'half', 'least', 'William', 'some', 'However', 'from', 'last', 'This', 'property', 'other'] \n",
      "\n",
      "cluster: 3 ['what', 'mistake', 'understanding', 'nervous', 'certainly', 'understand', 'mind', 'mean', 'sure', 'throw', 'word', 'quick', 'recommend', 'nerves', 'if', 'how', 'consider', 'replied', 'make', 'little', 'pretend', 'nonsense', 'answer', 'good', 'know', 'something', 'much', 'send', 'heard', 'come', 'impossible', 'surely', 'enough', 'silly', 'see', 'do', 'dare', 'What', 'says', 'very', 'take', 'difficult', 'thing', 'ignorant', 'not', 'there', 'talk', 'go', 'told', 'mention', 'sarcastic', 'here', 'hope', 'glad', 'still', 'affect', 'comes', 'they', 'bit', 'thinking', 'truth', 'say', 'tell', 'quickness', 'want', 'so', 'like', 'assure', 'always', 'suffer', 'just', 'think', 'said', 'temper', 'better', 'give', 'let', 'way', 'get'] \n",
      "\n",
      "cluster: 4 ['fortune'] \n",
      "\n",
      "cluster: 5 ['be', 'flatter', 'often', 'design', 'universally', 'character', 'delighted', 'therefore', 'considered', 'develop', 'England', 'Prejudice', 'engage', 'views', 'Morris', 'Sir', 'establishment', 'fancied', 'indeed', '&', 'lines', 'delight', 'best', 'well', 'use', 'Park', 'chaise', 'odd', 'handsome', 'Michaelmas', 'hearty', 'experience', 'occasion', 'fine', 'Bennet', 'account', 'soon', 'known', 'perhaps', 'mixture', 'Bingley', 'tiresome', 'Long', 'Contd', 'Netherfield', 'large', 'as', 'vexing', 'such'] \n",
      "\n",
      "cluster: 6 ['ought', 'would', 'should', 'may', 'will', 'must', 'might', 'likely', 'can'] \n",
      "\n",
      "cluster: 7 ['or', 'preference', 'whichever', 'consideration', 'consent', 'objection', 'no', 'any', 'merely', 'none', 'insufficient', 'nor', 'information', 'single', 'caprice', 'determined'] \n",
      "\n",
      "cluster: 8 ['was', 'am', 'are', 'is', 'been'] \n",
      "\n",
      "cluster: 9 ['woman', 'lady', 'married', 'sisters', 'marrying', 'daughters', 'wife'] \n",
      "\n",
      "cluster: 10 ['he', 'man', 'him', 'She', 'her', 'his', 'herself', 'she', 'Her'] \n",
      "\n",
      "cluster: 11 ['Mr.', 'Mrs.'] \n",
      "\n",
      "cluster: 12 ['You', 'your', 'you'] \n",
      "\n",
      "cluster: 13 ['visit', 'visiting'] \n",
      "\n",
      "cluster: 14 ['Jane', 'Lydia', 'Lizzy'] \n",
      "\n"
     ]
    }
   ],
   "source": [
    "for i in range(clusters):\n",
    "    print('cluster:',i,text[i],'\\n')"
   ]
  },
  {
   "cell_type": "code",
   "execution_count": null,
   "id": "2889cd80",
   "metadata": {},
   "outputs": [],
   "source": []
  }
 ],
 "metadata": {
  "kernelspec": {
   "display_name": "Python 3",
   "language": "python",
   "name": "python3"
  },
  "language_info": {
   "codemirror_mode": {
    "name": "ipython",
    "version": 3
   },
   "file_extension": ".py",
   "mimetype": "text/x-python",
   "name": "python",
   "nbconvert_exporter": "python",
   "pygments_lexer": "ipython3",
   "version": "3.8.8"
  }
 },
 "nbformat": 4,
 "nbformat_minor": 5
}

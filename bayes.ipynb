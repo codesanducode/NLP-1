{
 "cells": [
  {
   "cell_type": "code",
   "execution_count": 300,
   "id": "bc56c2f4",
   "metadata": {},
   "outputs": [
    {
     "name": "stderr",
     "output_type": "stream",
     "text": [
      "[nltk_data] Downloading package senseval to\n",
      "[nltk_data]     C:\\Users\\Sandu\\AppData\\Roaming\\nltk_data...\n",
      "[nltk_data]   Package senseval is already up-to-date!\n"
     ]
    }
   ],
   "source": [
    "import nltk\n",
    "nltk.download('senseval')\n",
    "from nltk.corpus import senseval\n",
    "from nltk import NaiveBayesClassifier\n",
    "import seaborn as sns\n",
    "from nltk.stem.wordnet import WordNetLemmatizer\n",
    "from nltk.corpus import wordnet"
   ]
  },
  {
   "cell_type": "code",
   "execution_count": 301,
   "id": "e7b523d6",
   "metadata": {},
   "outputs": [],
   "source": [
    "dataset=senseval.instances('interest.pos')"
   ]
  },
  {
   "cell_type": "code",
   "execution_count": 303,
   "id": "9bdd7d78",
   "metadata": {},
   "outputs": [
    {
     "name": "stdout",
     "output_type": "stream",
     "text": [
      "number of senses: 6\n",
      "class distribution {'interest_1': 361, 'interest_2': 11, 'interest_3': 66, 'interest_4': 178, 'interest_5': 500, 'interest_6': 1252}\n"
     ]
    },
    {
     "data": {
      "image/png": "[encoded data removed]",
      "text/plain": [
       "<Figure size 432x288 with 1 Axes>"
      ]
     },
     "metadata": {
      "needs_background": "light"
     },
     "output_type": "display_data"
    }
   ],
   "source": [
    "# some data analysis\n",
    "senses = set()\n",
    "position = []\n",
    "length = []\n",
    "dic = {'interest_1':0,\n",
    "      'interest_2':0,\n",
    "      'interest_3':0,\n",
    "      'interest_4':0,\n",
    "      'interest_5':0,\n",
    "      'interest_6':0}\n",
    "for instance in dataset:\n",
    "    senses.add(instance.senses)\n",
    "    position.append(instance.position)\n",
    "    length.append(len(instance.context))\n",
    "    dic[instance.senses[0]] +=1\n",
    "    \n",
    "sns.histplot((position,length))\n",
    "print('number of senses:',len(senses))\n",
    "print('class distribution',dic)"
   ]
  },
  {
   "cell_type": "code",
   "execution_count": 304,
   "id": "542130fb",
   "metadata": {},
   "outputs": [
    {
     "data": {
      "text/plain": [
       "{'prev': 'in',\n",
       " 'next': 'rates',\n",
       " 'prevlem': 'decline',\n",
       " 'nextlem': 'rate',\n",
       " 'prevlem2': 'further'}"
      ]
     },
     "execution_count": 304,
     "metadata": {},
     "output_type": "execute_result"
    }
   ],
   "source": [
    "def get_features(instance):\n",
    "    def process(sentence):\n",
    "        \n",
    "        # transform from treebank tagging to wordnet compatible\n",
    "        def get_wordnet_pos(treebank_tag):\n",
    "            if treebank_tag.startswith('J'):\n",
    "                return wordnet.ADJ\n",
    "            elif treebank_tag.startswith('V'):\n",
    "                return wordnet.VERB\n",
    "            elif treebank_tag.startswith('N'):\n",
    "                return wordnet.NOUN\n",
    "            elif treebank_tag.startswith('R'):\n",
    "                return wordnet.ADV\n",
    "            else:\n",
    "                return ''\n",
    "            \n",
    "        lemmatizer = WordNetLemmatizer() \n",
    "        # tuple (lemmatized word, pos tag)\n",
    "        return [(lemmatizer.lemmatize(pair[0].lower(), get_wordnet_pos(pair[1])),get_wordnet_pos(pair[1])) for pair in sentence if get_wordnet_pos(pair[1])!='']\n",
    "    \n",
    "    features={}\n",
    "#     features['position'] = instance.position\n",
    "#     features['length'] = len(instance.context)\n",
    "    try:\n",
    "        features['prev'] = instance.context[instance.position-1][0]\n",
    "        features['next'] = instance.context[instance.position+1][0]\n",
    "        sent = process(instance.context)\n",
    "        x = sent.index(('interest', 'n'))\n",
    "        features['prevlem'] = sent[x-1][0]\n",
    "        features['nextlem'] = sent[x+1][0]\n",
    "        features['prevlem2'] = sent[x-2][0]\n",
    "        features['nextlem2'] = sent[x+2][0]\n",
    "    except:\n",
    "        pass\n",
    "    return features\n",
    "    \n",
    "\n",
    "get_features(dataset[0])"
   ]
  },
  {
   "cell_type": "code",
   "execution_count": 305,
   "id": "d7da5b1b",
   "metadata": {},
   "outputs": [
    {
     "name": "stdout",
     "output_type": "stream",
     "text": [
      "0.8860759493670886\n",
      "Most Informative Features\n",
      "                 nextlem = 'rate'         intere : intere =    201.3 : 1.0\n",
      "                    next = 'in'           intere : intere =     63.6 : 1.0\n",
      "                 prevlem = 'have'         intere : intere =     49.9 : 1.0\n",
      "                    prev = 'other'        intere : intere =     48.2 : 1.0\n",
      "                    next = 'of'           intere : intere =     41.0 : 1.0\n",
      "                    prev = 'own'          intere : intere =     22.2 : 1.0\n",
      "                 prevlem = 'investor'     intere : intere =     22.0 : 1.0\n",
      "                 prevlem = 'low'          intere : intere =     21.9 : 1.0\n",
      "                 prevlem = 'other'        intere : intere =     21.8 : 1.0\n",
      "                 prevlem = 'company'      intere : intere =     20.3 : 1.0\n",
      "None\n"
     ]
    }
   ],
   "source": [
    "def make_dataset(dataset):\n",
    "    length = len(dataset)\n",
    "    train_set = []\n",
    "    test_set = []\n",
    "    for i in dataset[:int(length/100*90)]:\n",
    "        train_set.append((get_features(i),i.senses[0]))\n",
    "    for i in dataset[int(length/100*90):]:\n",
    "        test_set.append((get_features(i),i.senses[0]))\n",
    "    return train_set, test_set\n",
    "\n",
    "train_set,test_set=make_dataset(dataset)\n",
    "cls = NaiveBayesClassifier.train(train_set)\n",
    "print(nltk.classify.accuracy(cls, test_set))\n",
    "print(cls.show_most_informative_features())"
   ]
  },
  {
   "cell_type": "code",
   "execution_count": 306,
   "id": "840ab404",
   "metadata": {},
   "outputs": [
    {
     "data": {
      "text/plain": [
       "'interest_6'"
      ]
     },
     "execution_count": 306,
     "metadata": {},
     "output_type": "execute_result"
    }
   ],
   "source": [
    "cls.classify(get_features('i took a loan with a big interest rate'))"
   ]
  },
  {
   "cell_type": "code",
   "execution_count": null,
   "id": "6688ef82",
   "metadata": {},
   "outputs": [],
   "source": []
  }
 ],
 "metadata": {
  "kernelspec": {
   "display_name": "Python 3",
   "language": "python",
   "name": "python3"
  },
  "language_info": {
   "codemirror_mode": {
    "name": "ipython",
    "version": 3
   },
   "file_extension": ".py",
   "mimetype": "text/x-python",
   "name": "python",
   "nbconvert_exporter": "python",
   "pygments_lexer": "ipython3",
   "version": "3.8.8"
  }
 },
 "nbformat": 4,
 "nbformat_minor": 5
}
